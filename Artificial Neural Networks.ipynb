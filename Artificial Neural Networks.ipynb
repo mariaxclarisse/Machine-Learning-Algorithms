{
 "cells": [
  {
   "cell_type": "code",
   "execution_count": 2,
   "id": "b29e505a",
   "metadata": {},
   "outputs": [],
   "source": [
    "# import necessary libraries \n",
    "import numpy as np\n",
    "import matplotlib.pyplot as plt\n",
    "import pandas as pd"
   ]
  },
  {
   "attachments": {},
   "cell_type": "markdown",
   "id": "44c55194",
   "metadata": {},
   "source": [
    "# Generating Random Dataset for Model"
   ]
  },
  {
   "cell_type": "code",
   "execution_count": 3,
   "id": "684714ab",
   "metadata": {},
   "outputs": [],
   "source": [
    "# creating a random dataset with two(2) features: X1 and X2, and a target variable Y using numpy and pandas\n",
    "# (np.random.rand(10, 2)*5) -- this will generate 10x2 (row x col) array with values between 0 and 5\n",
    "# (np.random.rand(10, 2)*10)]) -- this will generate 10x2 (row x col) array with values between 0 and 10\n",
    "X = np.vstack([(np.random.rand(10, 2)*5),(np.random.rand(10, 2)*10)])\n",
    "\n",
    "# Y values of row 1-10 is 0, and Y values of row 11-20 is 1\n",
    "Y = np.hstack([[0]*10 , [1]*10])\n",
    "\n",
    "# assigning names of columns\n",
    "dataset = pd.DataFrame(X, columns=[\"X1\", \"X2\"])\n",
    "dataset[\"Y\"] =Y"
   ]
  },
  {
   "attachments": {},
   "cell_type": "markdown",
   "id": "30873379",
   "metadata": {},
   "source": [
    "# Random Dataset Generated"
   ]
  },
  {
   "cell_type": "code",
   "execution_count": 4,
   "id": "4ea8b8e1",
   "metadata": {},
   "outputs": [
    {
     "data": {
      "text/html": [
       "<div>\n",
       "<style scoped>\n",
       "    .dataframe tbody tr th:only-of-type {\n",
       "        vertical-align: middle;\n",
       "    }\n",
       "\n",
       "    .dataframe tbody tr th {\n",
       "        vertical-align: top;\n",
       "    }\n",
       "\n",
       "    .dataframe thead th {\n",
       "        text-align: right;\n",
       "    }\n",
       "</style>\n",
       "<table border=\"1\" class=\"dataframe\">\n",
       "  <thead>\n",
       "    <tr style=\"text-align: right;\">\n",
       "      <th></th>\n",
       "      <th>X1</th>\n",
       "      <th>X2</th>\n",
       "      <th>Y</th>\n",
       "    </tr>\n",
       "  </thead>\n",
       "  <tbody>\n",
       "    <tr>\n",
       "      <th>0</th>\n",
       "      <td>1.089686</td>\n",
       "      <td>2.377933</td>\n",
       "      <td>0</td>\n",
       "    </tr>\n",
       "    <tr>\n",
       "      <th>1</th>\n",
       "      <td>1.558808</td>\n",
       "      <td>1.355683</td>\n",
       "      <td>0</td>\n",
       "    </tr>\n",
       "    <tr>\n",
       "      <th>2</th>\n",
       "      <td>4.400108</td>\n",
       "      <td>2.170445</td>\n",
       "      <td>0</td>\n",
       "    </tr>\n",
       "    <tr>\n",
       "      <th>3</th>\n",
       "      <td>2.425585</td>\n",
       "      <td>0.490170</td>\n",
       "      <td>0</td>\n",
       "    </tr>\n",
       "    <tr>\n",
       "      <th>4</th>\n",
       "      <td>2.495265</td>\n",
       "      <td>4.006628</td>\n",
       "      <td>0</td>\n",
       "    </tr>\n",
       "    <tr>\n",
       "      <th>5</th>\n",
       "      <td>0.798779</td>\n",
       "      <td>1.316493</td>\n",
       "      <td>0</td>\n",
       "    </tr>\n",
       "    <tr>\n",
       "      <th>6</th>\n",
       "      <td>0.095470</td>\n",
       "      <td>2.001731</td>\n",
       "      <td>0</td>\n",
       "    </tr>\n",
       "    <tr>\n",
       "      <th>7</th>\n",
       "      <td>4.994140</td>\n",
       "      <td>4.672480</td>\n",
       "      <td>0</td>\n",
       "    </tr>\n",
       "    <tr>\n",
       "      <th>8</th>\n",
       "      <td>4.212752</td>\n",
       "      <td>2.610465</td>\n",
       "      <td>0</td>\n",
       "    </tr>\n",
       "    <tr>\n",
       "      <th>9</th>\n",
       "      <td>0.068158</td>\n",
       "      <td>2.304987</td>\n",
       "      <td>0</td>\n",
       "    </tr>\n",
       "    <tr>\n",
       "      <th>10</th>\n",
       "      <td>9.767520</td>\n",
       "      <td>6.432974</td>\n",
       "      <td>1</td>\n",
       "    </tr>\n",
       "    <tr>\n",
       "      <th>11</th>\n",
       "      <td>4.741291</td>\n",
       "      <td>2.365489</td>\n",
       "      <td>1</td>\n",
       "    </tr>\n",
       "    <tr>\n",
       "      <th>12</th>\n",
       "      <td>8.097614</td>\n",
       "      <td>7.742827</td>\n",
       "      <td>1</td>\n",
       "    </tr>\n",
       "    <tr>\n",
       "      <th>13</th>\n",
       "      <td>5.242843</td>\n",
       "      <td>3.224121</td>\n",
       "      <td>1</td>\n",
       "    </tr>\n",
       "    <tr>\n",
       "      <th>14</th>\n",
       "      <td>1.539441</td>\n",
       "      <td>4.152442</td>\n",
       "      <td>1</td>\n",
       "    </tr>\n",
       "    <tr>\n",
       "      <th>15</th>\n",
       "      <td>0.724799</td>\n",
       "      <td>7.076640</td>\n",
       "      <td>1</td>\n",
       "    </tr>\n",
       "    <tr>\n",
       "      <th>16</th>\n",
       "      <td>4.609987</td>\n",
       "      <td>3.182140</td>\n",
       "      <td>1</td>\n",
       "    </tr>\n",
       "    <tr>\n",
       "      <th>17</th>\n",
       "      <td>3.056550</td>\n",
       "      <td>0.697408</td>\n",
       "      <td>1</td>\n",
       "    </tr>\n",
       "    <tr>\n",
       "      <th>18</th>\n",
       "      <td>5.134642</td>\n",
       "      <td>5.482823</td>\n",
       "      <td>1</td>\n",
       "    </tr>\n",
       "    <tr>\n",
       "      <th>19</th>\n",
       "      <td>7.204410</td>\n",
       "      <td>8.455445</td>\n",
       "      <td>1</td>\n",
       "    </tr>\n",
       "  </tbody>\n",
       "</table>\n",
       "</div>"
      ],
      "text/plain": [
       "          X1        X2  Y\n",
       "0   1.089686  2.377933  0\n",
       "1   1.558808  1.355683  0\n",
       "2   4.400108  2.170445  0\n",
       "3   2.425585  0.490170  0\n",
       "4   2.495265  4.006628  0\n",
       "5   0.798779  1.316493  0\n",
       "6   0.095470  2.001731  0\n",
       "7   4.994140  4.672480  0\n",
       "8   4.212752  2.610465  0\n",
       "9   0.068158  2.304987  0\n",
       "10  9.767520  6.432974  1\n",
       "11  4.741291  2.365489  1\n",
       "12  8.097614  7.742827  1\n",
       "13  5.242843  3.224121  1\n",
       "14  1.539441  4.152442  1\n",
       "15  0.724799  7.076640  1\n",
       "16  4.609987  3.182140  1\n",
       "17  3.056550  0.697408  1\n",
       "18  5.134642  5.482823  1\n",
       "19  7.204410  8.455445  1"
      ]
     },
     "execution_count": 4,
     "metadata": {},
     "output_type": "execute_result"
    }
   ],
   "source": [
    "# showing the dataset generated from code above\n",
    "dataset"
   ]
  },
  {
   "attachments": {},
   "cell_type": "markdown",
   "id": "b8da1d3d",
   "metadata": {},
   "source": [
    "# Plotting dataset values"
   ]
  },
  {
   "cell_type": "code",
   "execution_count": 5,
   "id": "316fd65b",
   "metadata": {},
   "outputs": [
    {
     "data": {
      "text/plain": [
       "<matplotlib.legend.Legend at 0x246aa8b5d50>"
      ]
     },
     "execution_count": 5,
     "metadata": {},
     "output_type": "execute_result"
    },
    {
     "data": {
      "image/png": "[encoded data removed]",
      "text/plain": [
       "<Figure size 640x480 with 1 Axes>"
      ]
     },
     "metadata": {},
     "output_type": "display_data"
    }
   ],
   "source": [
    "plt.plot(dataset,label='Inline label')\n",
    "plt.legend([\"X2\",\"X1\",\"Y\"])"
   ]
  },
  {
   "attachments": {},
   "cell_type": "markdown",
   "id": "970ef4a7",
   "metadata": {},
   "source": [
    "# Converting Target variable to vector of number of classes"
   ]
  },
  {
   "cell_type": "code",
   "execution_count": 6,
   "id": "73379c8f",
   "metadata": {},
   "outputs": [],
   "source": [
    "# array Z 20 rows and 2 cols, all elements are 0\n",
    "Z = np.zeros((20, 2))\n",
    "\n",
    "# it loops from 0 - 19 and assign 1 to the ith rown and Y[i] col of Z\n",
    "# this is a technique in ML and DL to represent categorical values as numerical arrays for the model to understand\n",
    "for i in range(20):\n",
    "    Z[i, Y[i]] = 1"
   ]
  },
  {
   "cell_type": "code",
   "execution_count": 7,
   "id": "5136ecca",
   "metadata": {},
   "outputs": [
    {
     "data": {
      "text/plain": [
       "(20, 2)"
      ]
     },
     "execution_count": 7,
     "metadata": {},
     "output_type": "execute_result"
    }
   ],
   "source": [
    "# this will output the dimension of the array using numpy (rows, columns)\n",
    "X.shape"
   ]
  },
  {
   "attachments": {},
   "cell_type": "markdown",
   "id": "458bc210",
   "metadata": {},
   "source": [
    "# Initiating Random Weights and Bias"
   ]
  },
  {
   "cell_type": "code",
   "execution_count": 8,
   "id": "f9017d3a",
   "metadata": {},
   "outputs": [],
   "source": [
    "# weight is value assigned to each input, determines importance of each input in making prediction\n",
    "# biases controls output before applying activation function\n",
    "\n",
    "# 3 neurons in first layer\n",
    "Wi_1 = np.random.randn(3, 2)\n",
    "Bi_1 = np.random.randn(3)\n",
    "\n",
    "# 2 neurons in second layer\n",
    "Wi_2 = np.random.randn(3, 2)\n",
    "Bi_2 = np.random.randn(2)"
   ]
  },
  {
   "cell_type": "code",
   "execution_count": 9,
   "id": "1ae6dcc5",
   "metadata": {},
   "outputs": [
    {
     "data": {
      "text/plain": [
       "array([[-1.55462065, -0.54955432],\n",
       "       [ 0.42109468, -2.46460583],\n",
       "       [-0.4544623 , -1.99467484]])"
      ]
     },
     "execution_count": 9,
     "metadata": {},
     "output_type": "execute_result"
    }
   ],
   "source": [
    "# shows the shape and values of weight 1\n",
    "Wi_1"
   ]
  },
  {
   "cell_type": "code",
   "execution_count": 10,
   "id": "2cf4c4a8",
   "metadata": {},
   "outputs": [
    {
     "data": {
      "text/plain": [
       "array([1.17755834, 0.47470107, 0.19774662])"
      ]
     },
     "execution_count": 10,
     "metadata": {},
     "output_type": "execute_result"
    }
   ],
   "source": [
    "# shows the shape and values of bias 1\n",
    "Bi_1"
   ]
  },
  {
   "cell_type": "code",
   "execution_count": 11,
   "id": "c7b4bb66",
   "metadata": {},
   "outputs": [
    {
     "data": {
      "text/plain": [
       "array([[ 0.19450535,  0.35935019],\n",
       "       [ 0.18623791, -1.89077811],\n",
       "       [-0.40410221, -0.310804  ]])"
      ]
     },
     "execution_count": 11,
     "metadata": {},
     "output_type": "execute_result"
    }
   ],
   "source": [
    "# shows the shape and values of weight 2\n",
    "Wi_2"
   ]
  },
  {
   "cell_type": "code",
   "execution_count": 12,
   "id": "ff69df0f",
   "metadata": {},
   "outputs": [
    {
     "data": {
      "text/plain": [
       "array([-0.95169756,  0.59657951])"
      ]
     },
     "execution_count": 12,
     "metadata": {},
     "output_type": "execute_result"
    }
   ],
   "source": [
    "# shows the shape and values of bias 2\n",
    "Bi_2"
   ]
  },
  {
   "cell_type": "code",
   "execution_count": 13,
   "id": "d3b32317",
   "metadata": {},
   "outputs": [
    {
     "data": {
      "text/plain": [
       "array([[-1.55462065,  0.42109468, -0.4544623 ],\n",
       "       [-0.54955432, -2.46460583, -1.99467484]])"
      ]
     },
     "execution_count": 13,
     "metadata": {},
     "output_type": "execute_result"
    }
   ],
   "source": [
    "# transpose of the matrix of weight 1\n",
    "Wi_1.T"
   ]
  },
  {
   "cell_type": "code",
   "execution_count": 14,
   "id": "59ed90a9",
   "metadata": {},
   "outputs": [
    {
     "data": {
      "text/plain": [
       "array([[1.08968558, 2.37793328],\n",
       "       [1.55880796, 1.35568307],\n",
       "       [4.40010786, 2.17044479],\n",
       "       [2.4255846 , 0.49017034],\n",
       "       [2.49526534, 4.00662778],\n",
       "       [0.79877945, 1.31649312],\n",
       "       [0.0954698 , 2.00173061],\n",
       "       [4.99413968, 4.67247967],\n",
       "       [4.21275196, 2.61046461],\n",
       "       [0.06815804, 2.30498657],\n",
       "       [9.76752006, 6.4329741 ],\n",
       "       [4.74129149, 2.36548916],\n",
       "       [8.09761369, 7.74282671],\n",
       "       [5.24284293, 3.22412142],\n",
       "       [1.53944074, 4.15244191],\n",
       "       [0.72479862, 7.07664003],\n",
       "       [4.60998659, 3.18214039],\n",
       "       [3.05655025, 0.69740751],\n",
       "       [5.13464188, 5.48282283],\n",
       "       [7.20441002, 8.45544509]])"
      ]
     },
     "execution_count": 14,
     "metadata": {},
     "output_type": "execute_result"
    }
   ],
   "source": [
    "# shows values of X from our dataset\n",
    "X"
   ]
  },
  {
   "cell_type": "code",
   "execution_count": 15,
   "id": "c8f2550b",
   "metadata": {},
   "outputs": [
    {
     "data": {
      "text/plain": [
       "(20, 2)"
      ]
     },
     "execution_count": 15,
     "metadata": {},
     "output_type": "execute_result"
    }
   ],
   "source": [
    "X.shape"
   ]
  },
  {
   "cell_type": "code",
   "execution_count": 16,
   "id": "22d8b39e",
   "metadata": {},
   "outputs": [
    {
     "data": {
      "text/plain": [
       "array([[ -3.00085121,  -5.40180744,  -5.2384247 ],\n",
       "       [ -3.16837653,  -2.68481867,  -3.41256636],\n",
       "       [ -8.03327584,  -3.49642889,  -6.32901473],\n",
       "       [ -4.04023914,  -0.18667592,  -2.0800672 ],\n",
       "       [ -6.08105062,  -8.82401525,  -9.12592363],\n",
       "       [ -1.96528351,  -2.90827484,  -2.98899084],\n",
       "       [ -1.24847903,  -4.89327511,  -4.0361891 ],\n",
       "       [-10.33177405,  -9.41281502, -11.58972582],\n",
       "       [ -7.98382329,  -4.65979886,  -7.12156499],\n",
       "       [ -1.37267521,  -5.65218236,  -4.62867397],\n",
       "       [-18.72005709, -11.74169479, -17.27066117],\n",
       "       [ -8.67087444,  -3.83346577,  -6.87311992],\n",
       "       [-16.84382131, -15.67315386, -19.12448172],\n",
       "       [ -9.92246173,  -5.73845521,  -8.81374831],\n",
       "       [ -4.67523874,  -9.58588225,  -8.98238916],\n",
       "       [ -5.01578497, -17.13591945, -14.44498943],\n",
       "       [ -8.91553934,  -5.90148094,  -8.44240045],\n",
       "       [ -5.13503945,  -0.43173757,  -2.78018806],\n",
       "       [-10.99552925, -11.35082676, -13.26994987],\n",
       "       [-15.84685094, -17.80560056, -20.13999626]])"
      ]
     },
     "execution_count": 16,
     "metadata": {},
     "output_type": "execute_result"
    }
   ],
   "source": [
    "# computing the dot product\n",
    "# this is to calculate the output of the first layer\n",
    "X.dot(Wi_1.T)"
   ]
  },
  {
   "attachments": {},
   "cell_type": "markdown",
   "id": "fdd3c699",
   "metadata": {},
   "source": [
    "# Defining the Forward Propagation function"
   ]
  },
  {
   "cell_type": "code",
   "execution_count": 17,
   "id": "fb26b503",
   "metadata": {},
   "outputs": [],
   "source": [
    "# a function that\n",
    "def forward_prop(X, Wi_1, Bi_1, Wi_2, Bi_2):\n",
    "    \n",
    "    # first layer output with resulting matrix M\n",
    "    M = 1 / (1 + np.exp(-(X.dot(Wi_1.T) + Bi_1)))\n",
    "    \n",
    "    # second layer output with resulting matrix A\n",
    "    A = M.dot(Wi_2) + Bi_2\n",
    "    expA = np.exp(A)\n",
    "    \n",
    "    # final output \n",
    "    Y = expA / expA.sum(axis=1, keepdims=True)\n",
    "    \n",
    "    # returns predicted probabilities 'Y' and hidden layer outputs 'M'\n",
    "    return Y, M"
   ]
  },
  {
   "cell_type": "code",
   "execution_count": 18,
   "id": "cba75754",
   "metadata": {},
   "outputs": [
    {
     "data": {
      "text/plain": [
       "(array([[0.17409884, 0.82590116],\n",
       "        [0.20320452, 0.79679548],\n",
       "        [0.18966822, 0.81033178],\n",
       "        [0.40553141, 0.59446859],\n",
       "        [0.17522895, 0.82477105],\n",
       "        [0.19190143, 0.80809857],\n",
       "        [0.16728239, 0.83271761],\n",
       "        [0.17537201, 0.82462799],\n",
       "        [0.17984303, 0.82015697],\n",
       "        [0.16629335, 0.83370665],\n",
       "        [0.17533909, 0.82466091],\n",
       "        [0.18562699, 0.81437301],\n",
       "        [0.17533532, 0.82466468],\n",
       "        [0.17688075, 0.82311925],\n",
       "        [0.17466711, 0.82533289],\n",
       "        [0.17483343, 0.82516657],\n",
       "        [0.17663993, 0.82336007],\n",
       "        [0.3782197 , 0.6217803 ],\n",
       "        [0.1753396 , 0.8246604 ],\n",
       "        [0.17533525, 0.82466475]]),\n",
       " array([[1.39039223e-01, 7.19529685e-03, 6.42777651e-03],\n",
       "        [1.20170328e-01, 9.88455977e-02, 3.86118230e-02],\n",
       "        [1.05230701e-03, 4.64538790e-02, 2.16910731e-03],\n",
       "        [5.40295198e-02, 5.71512589e-01, 1.32122555e-01],\n",
       "        [7.36596283e-03, 2.36502753e-04, 1.32581951e-04],\n",
       "        [3.12657327e-01, 8.06480963e-02, 5.77991598e-02],\n",
       "        [4.82277255e-01, 1.19078979e-02, 2.10734537e-02],\n",
       "        [1.05761767e-04, 1.31271189e-04, 1.12855154e-05],\n",
       "        [1.10559552e-03, 1.49925205e-02, 9.83097799e-04],\n",
       "        [4.51374948e-01, 5.61054382e-03, 1.17634207e-02],\n",
       "        [2.40652059e-08, 1.27879594e-05, 3.84881826e-08],\n",
       "        [5.56483663e-04, 3.36093225e-02, 1.26001191e-03],\n",
       "        [1.57118879e-07, 2.50839377e-07, 6.02869597e-09],\n",
       "        [1.59245638e-04, 5.14918604e-03, 1.81150414e-04],\n",
       "        [2.93783023e-02, 1.10412015e-04, 1.53042393e-04],\n",
       "        [2.10779070e-02, 5.80931295e-08, 6.49382806e-07],\n",
       "        [4.35760901e-04, 4.37798168e-03, 2.62590059e-04],\n",
       "        [1.87528042e-02, 5.10739223e-01, 7.02770444e-02],\n",
       "        [5.44610181e-05, 1.89038568e-05, 2.10287447e-06],\n",
       "        [4.25801303e-07, 2.97362344e-08, 2.18369019e-09]]))"
      ]
     },
     "execution_count": 18,
     "metadata": {},
     "output_type": "execute_result"
    }
   ],
   "source": [
    "forward_prop(X, Wi_1, Bi_1, Wi_2, Bi_2)"
   ]
  },
  {
   "attachments": {},
   "cell_type": "markdown",
   "id": "2e5c2eb7",
   "metadata": {},
   "source": [
    "# Backpropagation by Differentiating or Gradient Descent"
   ]
  },
  {
   "cell_type": "code",
   "execution_count": 19,
   "id": "1f59c79e",
   "metadata": {},
   "outputs": [],
   "source": [
    "#Returns gradient for Weight_2\n",
    "def diff_Wi_2(H, Z, Y):\n",
    "    return H.T.dot(Z - Y)"
   ]
  },
  {
   "cell_type": "code",
   "execution_count": 20,
   "id": "2691d35a",
   "metadata": {},
   "outputs": [],
   "source": [
    "#Returns gradient for Weight_2\n",
    "def diff_Wi_1(X, H, Z, output, Wi_2):\n",
    "    dZ = (Z - output).dot(Wi_2.T) * H * (1 - H)\n",
    "    return X.T.dot(dZ)"
   ]
  },
  {
   "cell_type": "code",
   "execution_count": 21,
   "id": "e5f05ff0",
   "metadata": {},
   "outputs": [],
   "source": [
    "# Returns derivative for both bias\n",
    "def diff_B2(Z, Y):\n",
    "    return (Z - Y).sum(axis=0)\n",
    "\n",
    "def diff_B1(Z, Y, Wi_2, H):\n",
    "    return ((Z - Y).dot(Wi_2.T) * H * (1 - H)).sum(axis=0)"
   ]
  },
  {
   "cell_type": "code",
   "execution_count": 22,
   "id": "033450dc",
   "metadata": {},
   "outputs": [],
   "source": [
    "# epoch is the number of cycles the dataset has to run in the model\n",
    "# we adjust weights and bias as it learns to give better accuracy\n",
    "\n",
    "learning_rate = 1e-3\n",
    "for epoch in range(5000):\n",
    "    output, hidden = forward_prop(X, Wi_1, Bi_1, Wi_2, Bi_2)\n",
    "    Wi_2 += learning_rate * diff_Wi_2(hidden, Z, output)\n",
    "    Bi_2 += learning_rate * diff_B2(Z, output)\n",
    "    Wi_1 += learning_rate * diff_Wi_1(X, hidden, Z, output, Wi_2).T\n",
    "    Bi_1 += learning_rate * diff_B1(Z, output, Wi_2, hidden)"
   ]
  },
  {
   "attachments": {},
   "cell_type": "markdown",
   "id": "edc60bf5",
   "metadata": {},
   "source": [
    "# Generating Prediction at New Datapoint"
   ]
  },
  {
   "cell_type": "code",
   "execution_count": 24,
   "id": "f3325c8c",
   "metadata": {},
   "outputs": [
    {
     "name": "stdout",
     "output_type": "stream",
     "text": [
      " prob of class 0 >>>>>  0.166645592544074 \n",
      " prob of class 1 >>>>> 0.833354407455926\n"
     ]
    }
   ],
   "source": [
    "# predicting probability of class using two values (X1, X2)\n",
    "X_test =np.array([7,5])\n",
    "\n",
    "hidden_output = 1 / (1 + np.exp(-X_test.dot(Wi_1.T) - Bi_1))\n",
    "Outer_layer_output = hidden_output.dot(Wi_2) + Bi_2\n",
    "expA = np.exp(Outer_layer_output)\n",
    "Y = expA / expA.sum()\n",
    "print(\" prob of class 0 >>>>>  {} \\n prob of class 1 >>>>> {}\".format(Y[0],Y[1]))"
   ]
  }
 ],
 "metadata": {
  "kernelspec": {
   "display_name": "Python 3 (ipykernel)",
   "language": "python",
   "name": "python3"
  },
  "language_info": {
   "codemirror_mode": {
    "name": "ipython",
    "version": 3
   },
   "file_extension": ".py",
   "mimetype": "text/x-python",
   "name": "python",
   "nbconvert_exporter": "python",
   "pygments_lexer": "ipython3",
   "version": "3.11.1"
  }
 },
 "nbformat": 4,
 "nbformat_minor": 5
}
