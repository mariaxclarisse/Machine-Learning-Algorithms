{
 "cells": [
  {
   "cell_type": "code",
   "execution_count": null,
   "id": "d5d37c5c",
   "metadata": {},
   "outputs": [],
   "source": [
    "import pandas as pd\n",
    "import numpy as np\n",
    "import matplotlib.pyplot as plt\n",
    "from sklearn.linear_model import LinearRegression\n",
    "from mpl_toolkits import mplot3d"
   ]
  },
  {
   "cell_type": "code",
   "execution_count": null,
   "id": "97ea5b1d",
   "metadata": {},
   "outputs": [],
   "source": [
    "# data using pandas dataframe\n",
    "data = {'Year' : [2017, 2018, 2019, 2020, 2021, 2022, 2023, 2024, 2025],\n",
    "        'Per Square Meter' : [50, 41, 51, 30, 60, 70, 65, 74, 80],\n",
    "        'House Pricing' : [99, 71, 101, 105, 106, 110, 111, 88, 120]}\n",
    "df = pd.DataFrame(data)\n",
    "\n",
    "X = df[['Year', 'Per Square Meter']]\n",
    "Y = df[['House Pricing']]\n",
    "lr = LinearRegression()\n",
    "lr.fit(X,Y)"
   ]
  },
  {
   "cell_type": "code",
   "execution_count": null,
   "id": "2f9c28ab",
   "metadata": {},
   "outputs": [],
   "source": [
    "# plotting\n",
    "fig = plt.figure()\n",
    "ax = plt.axes(projection='3d')\n",
    "ax.scatter3D(df['Year'], df['Per Square Meter'], df['House Pricing'])\n",
    "ax.set_xlabel('Year')\n",
    "ax.set_ylabel('Per Square Meter')\n",
    "ax.set_zlabel('House Pricing', labelpad=0.1)\n",
    "\n",
    "x_surf, y_surf = np.meshgrid(np.linspace(df['Year'].min(), df['Year'].max(), 100),\n",
    "                             np.linspace(df['Per Square Meter'].min(), df['Per Square Meter'].max(), 100))\n",
    "z_surf = lr.intercept_[0] + lr.coef_[0][0]*x_surf + lr.coef_[0][1]*y_surf\n",
    "ax.plot_surface(x_surf, y_surf, z_surf, alpha=0)\n",
    "plt.show()"
   ]
  }
 ],
 "metadata": {
  "kernelspec": {
   "display_name": "Python 3 (ipykernel)",
   "language": "python",
   "name": "python3"
  },
  "language_info": {
   "codemirror_mode": {
    "name": "ipython",
    "version": 3
   },
   "file_extension": ".py",
   "mimetype": "text/x-python",
   "name": "python",
   "nbconvert_exporter": "python",
   "pygments_lexer": "ipython3",
   "version": "3.11.1"
  }
 },
 "nbformat": 4,
 "nbformat_minor": 5
}
