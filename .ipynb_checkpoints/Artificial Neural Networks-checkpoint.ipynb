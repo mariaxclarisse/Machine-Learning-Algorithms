{
 "cells": [
  {
   "cell_type": "code",
   "execution_count": 1,
   "id": "b29e505a",
   "metadata": {},
   "outputs": [],
   "source": [
    "# import necessary libraries \n",
    "import numpy as np\n",
    "import matplotlib.pyplot as plt\n",
    "import pandas as pd"
   ]
  },
  {
   "cell_type": "markdown",
   "id": "44c55194",
   "metadata": {},
   "source": [
    "# Generating Random Dataset for Model"
   ]
  },
  {
   "cell_type": "code",
   "execution_count": 4,
   "id": "684714ab",
   "metadata": {},
   "outputs": [],
   "source": [
    "# creating a random dataset with two(2) features: X1 and X2, and a target variable Y using numpy and pandas\n",
    "# (np.random.rand(10, 2)*5) -- this will generate 10x2 (row x col) array with values between 0 and 5\n",
    "# (np.random.rand(10, 2)*10)]) -- this will generate 10x2 (row x col) array with values between 0 and 10\n",
    "X = np.vstack([(np.random.rand(10, 2)*5),(np.random.rand(10, 2)*10)])\n",
    "\n",
    "# Y values of row 1-10 is 0, and Y values of row 11-20 is 1\n",
    "Y = np.hstack([[0]*10 , [1]*10])\n",
    "\n",
    "# assigning names of columns\n",
    "dataset = pd.DataFrame(X, columns=[\"X1\", \"X2\"])\n",
    "dataset[\"Y\"] =Y"
   ]
  },
  {
   "cell_type": "markdown",
   "id": "30873379",
   "metadata": {},
   "source": [
    "# Random Dataset Generated"
   ]
  },
  {
   "cell_type": "code",
   "execution_count": 5,
   "id": "4ea8b8e1",
   "metadata": {},
   "outputs": [
    {
     "data": {
      "text/html": [
       "<div>\n",
       "<style scoped>\n",
       "    .dataframe tbody tr th:only-of-type {\n",
       "        vertical-align: middle;\n",
       "    }\n",
       "\n",
       "    .dataframe tbody tr th {\n",
       "        vertical-align: top;\n",
       "    }\n",
       "\n",
       "    .dataframe thead th {\n",
       "        text-align: right;\n",
       "    }\n",
       "</style>\n",
       "<table border=\"1\" class=\"dataframe\">\n",
       "  <thead>\n",
       "    <tr style=\"text-align: right;\">\n",
       "      <th></th>\n",
       "      <th>X1</th>\n",
       "      <th>X2</th>\n",
       "      <th>Y</th>\n",
       "    </tr>\n",
       "  </thead>\n",
       "  <tbody>\n",
       "    <tr>\n",
       "      <th>0</th>\n",
       "      <td>2.859962</td>\n",
       "      <td>1.556907</td>\n",
       "      <td>0</td>\n",
       "    </tr>\n",
       "    <tr>\n",
       "      <th>1</th>\n",
       "      <td>0.619862</td>\n",
       "      <td>2.115200</td>\n",
       "      <td>0</td>\n",
       "    </tr>\n",
       "    <tr>\n",
       "      <th>2</th>\n",
       "      <td>3.911658</td>\n",
       "      <td>3.328946</td>\n",
       "      <td>0</td>\n",
       "    </tr>\n",
       "    <tr>\n",
       "      <th>3</th>\n",
       "      <td>0.545003</td>\n",
       "      <td>3.865369</td>\n",
       "      <td>0</td>\n",
       "    </tr>\n",
       "    <tr>\n",
       "      <th>4</th>\n",
       "      <td>2.212311</td>\n",
       "      <td>2.044655</td>\n",
       "      <td>0</td>\n",
       "    </tr>\n",
       "    <tr>\n",
       "      <th>5</th>\n",
       "      <td>4.907810</td>\n",
       "      <td>1.401333</td>\n",
       "      <td>0</td>\n",
       "    </tr>\n",
       "    <tr>\n",
       "      <th>6</th>\n",
       "      <td>1.548753</td>\n",
       "      <td>1.780483</td>\n",
       "      <td>0</td>\n",
       "    </tr>\n",
       "    <tr>\n",
       "      <th>7</th>\n",
       "      <td>0.647681</td>\n",
       "      <td>2.891326</td>\n",
       "      <td>0</td>\n",
       "    </tr>\n",
       "    <tr>\n",
       "      <th>8</th>\n",
       "      <td>4.309257</td>\n",
       "      <td>2.037461</td>\n",
       "      <td>0</td>\n",
       "    </tr>\n",
       "    <tr>\n",
       "      <th>9</th>\n",
       "      <td>3.548523</td>\n",
       "      <td>3.053536</td>\n",
       "      <td>0</td>\n",
       "    </tr>\n",
       "    <tr>\n",
       "      <th>10</th>\n",
       "      <td>7.709476</td>\n",
       "      <td>7.579833</td>\n",
       "      <td>1</td>\n",
       "    </tr>\n",
       "    <tr>\n",
       "      <th>11</th>\n",
       "      <td>8.376767</td>\n",
       "      <td>6.179624</td>\n",
       "      <td>1</td>\n",
       "    </tr>\n",
       "    <tr>\n",
       "      <th>12</th>\n",
       "      <td>3.226929</td>\n",
       "      <td>8.105054</td>\n",
       "      <td>1</td>\n",
       "    </tr>\n",
       "    <tr>\n",
       "      <th>13</th>\n",
       "      <td>0.929602</td>\n",
       "      <td>5.226869</td>\n",
       "      <td>1</td>\n",
       "    </tr>\n",
       "    <tr>\n",
       "      <th>14</th>\n",
       "      <td>1.129591</td>\n",
       "      <td>4.753450</td>\n",
       "      <td>1</td>\n",
       "    </tr>\n",
       "    <tr>\n",
       "      <th>15</th>\n",
       "      <td>6.151145</td>\n",
       "      <td>4.191084</td>\n",
       "      <td>1</td>\n",
       "    </tr>\n",
       "    <tr>\n",
       "      <th>16</th>\n",
       "      <td>8.428606</td>\n",
       "      <td>7.580243</td>\n",
       "      <td>1</td>\n",
       "    </tr>\n",
       "    <tr>\n",
       "      <th>17</th>\n",
       "      <td>3.754992</td>\n",
       "      <td>1.316752</td>\n",
       "      <td>1</td>\n",
       "    </tr>\n",
       "    <tr>\n",
       "      <th>18</th>\n",
       "      <td>6.770347</td>\n",
       "      <td>5.057880</td>\n",
       "      <td>1</td>\n",
       "    </tr>\n",
       "    <tr>\n",
       "      <th>19</th>\n",
       "      <td>2.017266</td>\n",
       "      <td>0.742696</td>\n",
       "      <td>1</td>\n",
       "    </tr>\n",
       "  </tbody>\n",
       "</table>\n",
       "</div>"
      ],
      "text/plain": [
       "          X1        X2  Y\n",
       "0   2.859962  1.556907  0\n",
       "1   0.619862  2.115200  0\n",
       "2   3.911658  3.328946  0\n",
       "3   0.545003  3.865369  0\n",
       "4   2.212311  2.044655  0\n",
       "5   4.907810  1.401333  0\n",
       "6   1.548753  1.780483  0\n",
       "7   0.647681  2.891326  0\n",
       "8   4.309257  2.037461  0\n",
       "9   3.548523  3.053536  0\n",
       "10  7.709476  7.579833  1\n",
       "11  8.376767  6.179624  1\n",
       "12  3.226929  8.105054  1\n",
       "13  0.929602  5.226869  1\n",
       "14  1.129591  4.753450  1\n",
       "15  6.151145  4.191084  1\n",
       "16  8.428606  7.580243  1\n",
       "17  3.754992  1.316752  1\n",
       "18  6.770347  5.057880  1\n",
       "19  2.017266  0.742696  1"
      ]
     },
     "execution_count": 5,
     "metadata": {},
     "output_type": "execute_result"
    }
   ],
   "source": [
    "# showing the dataset generated from code above\n",
    "dataset"
   ]
  },
  {
   "cell_type": "markdown",
   "id": "b8da1d3d",
   "metadata": {},
   "source": [
    "# Plotting dataset values"
   ]
  },
  {
   "cell_type": "code",
   "execution_count": 6,
   "id": "316fd65b",
   "metadata": {},
   "outputs": [
    {
     "data": {
      "text/plain": [
       "<matplotlib.legend.Legend at 0x19e9d2bce50>"
      ]
     },
     "execution_count": 6,
     "metadata": {},
     "output_type": "execute_result"
    },
    {
     "data": {
      "image/png": "[encoded data removed]",
      "text/plain": [
       "<Figure size 640x480 with 1 Axes>"
      ]
     },
     "metadata": {},
     "output_type": "display_data"
    }
   ],
   "source": [
    "plt.plot(dataset,label='Inline label')\n",
    "plt.legend([\"X2\",\"X1\",\"Y\"])"
   ]
  },
  {
   "cell_type": "markdown",
   "id": "970ef4a7",
   "metadata": {},
   "source": [
    "# Converting Target variable to vector of number of classes"
   ]
  },
  {
   "cell_type": "code",
   "execution_count": 9,
   "id": "73379c8f",
   "metadata": {},
   "outputs": [],
   "source": [
    "# array Z 20 rows and 2 cols, all elements are 0\n",
    "Z = np.zeros((20, 2))\n",
    "\n",
    "# it loops from 0 - 19 and assign 1 to the ith rown and Y[i] col of Z\n",
    "# this is a technique in ML and DL to represent categorical values as numerical arrays for the model to understand\n",
    "for i in range(20):\n",
    "    Z[i, Y[i]] = 1"
   ]
  },
  {
   "cell_type": "code",
   "execution_count": 11,
   "id": "5136ecca",
   "metadata": {},
   "outputs": [
    {
     "data": {
      "text/plain": [
       "(20, 2)"
      ]
     },
     "execution_count": 11,
     "metadata": {},
     "output_type": "execute_result"
    }
   ],
   "source": [
    "# this will output the dimension of the array using numpy (rows, columns)\n",
    "X.shape"
   ]
  },
  {
   "cell_type": "markdown",
   "id": "458bc210",
   "metadata": {},
   "source": [
    "# Initiating Random Weights and Bias"
   ]
  },
  {
   "cell_type": "code",
   "execution_count": 12,
   "id": "f9017d3a",
   "metadata": {},
   "outputs": [],
   "source": [
    "# weight is value assigned to each input, determines importance of each input in making prediction\n",
    "# biases controls output before applying activation function\n",
    "\n",
    "# 3 neurons in first layer\n",
    "Wi_1 = np.random.randn(3, 2)\n",
    "Bi_1 = np.random.randn(3)\n",
    "\n",
    "# 2 neurons in second layer\n",
    "Wi_2 = np.random.randn(3, 2)\n",
    "Bi_2 = np.random.randn(2)"
   ]
  },
  {
   "cell_type": "code",
   "execution_count": 13,
   "id": "1ae6dcc5",
   "metadata": {},
   "outputs": [
    {
     "data": {
      "text/plain": [
       "array([[-0.05991742, -1.02820411],\n",
       "       [-0.1536915 ,  0.65651028],\n",
       "       [-0.96626884, -0.83306   ]])"
      ]
     },
     "execution_count": 13,
     "metadata": {},
     "output_type": "execute_result"
    }
   ],
   "source": [
    "# shows the shape and values of weight 1\n",
    "Wi_1"
   ]
  },
  {
   "cell_type": "code",
   "execution_count": 32,
   "id": "2cf4c4a8",
   "metadata": {},
   "outputs": [
    {
     "data": {
      "text/plain": [
       "array([ 0.97525196, -1.94635514,  0.93577437])"
      ]
     },
     "execution_count": 32,
     "metadata": {},
     "output_type": "execute_result"
    }
   ],
   "source": [
    "# shows the shape and values of bias 1\n",
    "Bi_1"
   ]
  },
  {
   "cell_type": "code",
   "execution_count": 15,
   "id": "c7b4bb66",
   "metadata": {},
   "outputs": [
    {
     "data": {
      "text/plain": [
       "array([[-1.39727082, -0.42842687],\n",
       "       [-0.20092145, -1.01567603],\n",
       "       [-0.01314101, -1.51204726]])"
      ]
     },
     "execution_count": 15,
     "metadata": {},
     "output_type": "execute_result"
    }
   ],
   "source": [
    "# shows the shape and values of weight 2\n",
    "Wi_2"
   ]
  },
  {
   "cell_type": "code",
   "execution_count": 17,
   "id": "ff69df0f",
   "metadata": {},
   "outputs": [
    {
     "data": {
      "text/plain": [
       "array([ 1.41908   , -0.53285793])"
      ]
     },
     "execution_count": 17,
     "metadata": {},
     "output_type": "execute_result"
    }
   ],
   "source": [
    "# shows the shape and values of bias 2\n",
    "Bi_2"
   ]
  },
  {
   "cell_type": "code",
   "execution_count": 18,
   "id": "d3b32317",
   "metadata": {},
   "outputs": [
    {
     "data": {
      "text/plain": [
       "array([[-0.05991742, -0.1536915 , -0.96626884],\n",
       "       [-1.02820411,  0.65651028, -0.83306   ]])"
      ]
     },
     "execution_count": 18,
     "metadata": {},
     "output_type": "execute_result"
    }
   ],
   "source": [
    "# transpose of the matrix of weight 1\n",
    "Wi_1.T"
   ]
  },
  {
   "cell_type": "code",
   "execution_count": 19,
   "id": "59ed90a9",
   "metadata": {},
   "outputs": [
    {
     "data": {
      "text/plain": [
       "array([[2.85996196, 1.55690666],\n",
       "       [0.61986188, 2.11519967],\n",
       "       [3.91165776, 3.32894551],\n",
       "       [0.54500292, 3.86536861],\n",
       "       [2.21231107, 2.04465537],\n",
       "       [4.90780995, 1.40133344],\n",
       "       [1.54875286, 1.78048314],\n",
       "       [0.64768087, 2.89132574],\n",
       "       [4.30925657, 2.03746101],\n",
       "       [3.5485227 , 3.05353584],\n",
       "       [7.70947618, 7.57983255],\n",
       "       [8.37676668, 6.17962371],\n",
       "       [3.22692864, 8.10505426],\n",
       "       [0.92960152, 5.22686907],\n",
       "       [1.12959059, 4.75345034],\n",
       "       [6.15114488, 4.19108423],\n",
       "       [8.42860556, 7.580243  ],\n",
       "       [3.75499199, 1.31675175],\n",
       "       [6.77034668, 5.05787977],\n",
       "       [2.01726572, 0.74269601]])"
      ]
     },
     "execution_count": 19,
     "metadata": {},
     "output_type": "execute_result"
    }
   ],
   "source": [
    "# shows values of X from our dataset\n",
    "X"
   ]
  },
  {
   "cell_type": "code",
   "execution_count": 20,
   "id": "c8f2550b",
   "metadata": {},
   "outputs": [
    {
     "data": {
      "text/plain": [
       "(20, 2)"
      ]
     },
     "execution_count": 20,
     "metadata": {},
     "output_type": "execute_result"
    }
   ],
   "source": [
    "X.shape"
   ]
  },
  {
   "cell_type": "code",
   "execution_count": 21,
   "id": "22d8b39e",
   "metadata": {},
   "outputs": [
    {
     "data": {
      "text/plain": [
       "array([[ -1.77217938,   0.58257338,  -4.06048878],\n",
       "       [ -2.21199753,   1.29338283,  -2.36104145],\n",
       "       [ -3.65721191,   1.5842984 ,  -6.55292433],\n",
       "       [ -4.00704307,   2.45389192,  -3.7467033 ],\n",
       "       [ -2.23487903,   1.00232386,  -3.84100784],\n",
       "       [ -1.73492012,   0.16570112,  -5.90965864],\n",
       "       [ -1.92349737,   0.93087534,  -2.97976091],\n",
       "       [ -3.01168038,   1.79864203,  -3.03448166],\n",
       "       [ -2.35312533,   0.67531798,  -5.8612276 ],\n",
       "       [ -3.35227644,   1.45929989,  -5.97260546],\n",
       "       [ -8.25554694,   3.79135703, -13.76388187],\n",
       "       [ -6.85582878,   2.76954865, -13.24220592],\n",
       "       [ -8.52699938,   4.82509995,  -9.87007706],\n",
       "       [ -5.4299876 ,   3.28862143,  -5.2525405 ],\n",
       "       [ -4.95519935,   2.94708055,  -5.05139751],\n",
       "       [ -4.67785079,   1.80611119,  -9.43508423],\n",
       "       [ -8.29905734,   3.68110242, -14.45909611],\n",
       "       [ -1.57887901,   0.28735071,  -4.72526496],\n",
       "       [ -5.6061945 ,   2.28000532, -10.75549232],\n",
       "       [ -0.88451245,   0.17755097,  -2.56793134]])"
      ]
     },
     "execution_count": 21,
     "metadata": {},
     "output_type": "execute_result"
    }
   ],
   "source": [
    "# computing the dot product\n",
    "# this is to calculate the output of the first layer\n",
    "X.dot(Wi_1.T)"
   ]
  },
  {
   "cell_type": "markdown",
   "id": "fdd3c699",
   "metadata": {},
   "source": [
    "# Defining the Forward Propagation function"
   ]
  },
  {
   "cell_type": "code",
   "execution_count": 22,
   "id": "fb26b503",
   "metadata": {},
   "outputs": [],
   "source": [
    "# a function that\n",
    "def forward_prop(X, Wi_1, Bi_1, Wi_2, Bi_2):\n",
    "    \n",
    "    # first layer output with resulting matrix M\n",
    "    M = 1 / (1 + np.exp(-(X.dot(Wi_1.T) + Bi_1)))\n",
    "    \n",
    "    # second layer output with resulting matrix A\n",
    "    A = M.dot(Wi_2) + Bi_2\n",
    "    expA = np.exp(A)\n",
    "    \n",
    "    # final output \n",
    "    Y = expA / expA.sum(axis=1, keepdims=True)\n",
    "    \n",
    "    # returns predicted probabilities 'Y' and hidden layer outputs 'M'\n",
    "    return Y, M"
   ]
  },
  {
   "cell_type": "code",
   "execution_count": 23,
   "id": "cba75754",
   "metadata": {},
   "outputs": [
    {
     "data": {
      "text/plain": [
       "(array([[0.91098989, 0.08901011],\n",
       "        [0.92723085, 0.07276915],\n",
       "        [0.9329206 , 0.0670794 ],\n",
       "        [0.93768836, 0.06231164],\n",
       "        [0.92148278, 0.07851722],\n",
       "        [0.90368242, 0.09631758],\n",
       "        [0.91882343, 0.08117657],\n",
       "        [0.93351848, 0.06648152],\n",
       "        [0.91854428, 0.08145572],\n",
       "        [0.9312782 , 0.0687218 ],\n",
       "        [0.94024722, 0.05975278],\n",
       "        [0.93915868, 0.06084132],\n",
       "        [0.94062408, 0.05937592],\n",
       "        [0.93963369, 0.06036631],\n",
       "        [0.93899964, 0.06100036],\n",
       "        [0.93575945, 0.06424055],\n",
       "        [0.94018244, 0.05981756],\n",
       "        [0.90323848, 0.09676152],\n",
       "        [0.93788972, 0.06211028],\n",
       "        [0.8917436 , 0.1082564 ]]),\n",
       " array([[2.68056743e-01, 7.60737582e-01, 9.16311011e-03],\n",
       "        [1.90876883e-01, 8.66173028e-01, 4.81577632e-02],\n",
       "        [5.26732246e-02, 8.96455998e-01, 7.64289120e-04],\n",
       "        [3.77108183e-02, 9.53825193e-01, 1.24983838e-02],\n",
       "        [1.87367970e-01, 8.28705140e-01, 1.13864063e-02],\n",
       "        [2.75429963e-01, 6.76964208e-01, 1.45319835e-03],\n",
       "        [2.39427224e-01, 8.18323408e-01, 2.65288232e-02],\n",
       "        [9.58678101e-02, 9.14729215e-01, 2.51516811e-02],\n",
       "        [1.70024977e-01, 7.77208472e-01, 1.52520041e-03],\n",
       "        [7.01360491e-02, 8.84265035e-01, 1.36466465e-03],\n",
       "        [5.59519856e-04, 9.87451313e-01, 5.64820459e-07],\n",
       "        [2.26445598e-03, 9.65898020e-01, 9.51636818e-07],\n",
       "        [4.26562799e-04, 9.95500387e-01, 2.77304273e-05],\n",
       "        [9.35623041e-03, 9.79422716e-01, 2.79976529e-03],\n",
       "        [1.49567289e-02, 9.71285959e-01, 3.42141766e-03],\n",
       "        [1.96433858e-02, 9.15310005e-01, 4.28415313e-05],\n",
       "        [5.35709714e-04, 9.86009074e-01, 2.81827154e-07],\n",
       "        [3.07634003e-01, 7.02974966e-01, 4.73446679e-03],\n",
       "        [7.85655542e-03, 9.45533293e-01, 1.14401752e-05],\n",
       "        [4.70823838e-01, 6.79550122e-01, 3.95131474e-02]]))"
      ]
     },
     "execution_count": 23,
     "metadata": {},
     "output_type": "execute_result"
    }
   ],
   "source": [
    "forward_prop(X, Wi_1, Bi_1, Wi_2, Bi_2)"
   ]
  },
  {
   "cell_type": "markdown",
   "id": "2e5c2eb7",
   "metadata": {},
   "source": [
    "# Backpropagation by Differentiating or Gradient Descent"
   ]
  },
  {
   "cell_type": "code",
   "execution_count": 24,
   "id": "1f59c79e",
   "metadata": {},
   "outputs": [],
   "source": [
    "#Returns gradient for Weight_2\n",
    "def diff_Wi_2(H, Z, Y):\n",
    "    return H.T.dot(Z - Y)"
   ]
  },
  {
   "cell_type": "code",
   "execution_count": 25,
   "id": "2691d35a",
   "metadata": {},
   "outputs": [],
   "source": [
    "#Returns gradient for Weight_2\n",
    "def diff_Wi_1(X, H, Z, output, Wi_2):\n",
    "    dZ = (Z - output).dot(Wi_2.T) * H * (1 - H)\n",
    "    return X.T.dot(dZ)"
   ]
  },
  {
   "cell_type": "code",
   "execution_count": 26,
   "id": "e5f05ff0",
   "metadata": {},
   "outputs": [],
   "source": [
    "# Returns derivative for both bias\n",
    "def diff_B2(Z, Y):\n",
    "    return (Z - Y).sum(axis=0)\n",
    "\n",
    "def diff_B1(Z, Y, Wi_2, H):\n",
    "    return ((Z - Y).dot(Wi_2.T) * H * (1 - H)).sum(axis=0)"
   ]
  },
  {
   "cell_type": "code",
   "execution_count": 27,
   "id": "033450dc",
   "metadata": {},
   "outputs": [],
   "source": [
    "# epoch is the number of cycles the dataset has to run in the model\n",
    "# we adjust weights and bias as it learns to give better accuracy\n",
    "\n",
    "learning_rate = 1e-3\n",
    "for epoch in range(5000):\n",
    "    output, hidden = forward_prop(X, Wi_1, Bi_1, Wi_2, Bi_2)\n",
    "    Wi_2 += learning_rate * diff_Wi_2(hidden, Z, output)\n",
    "    Bi_2 += learning_rate * diff_B2(Z, output)\n",
    "    Wi_1 += learning_rate * diff_Wi_1(X, hidden, Z, output, Wi_2).T\n",
    "    Bi_1 += learning_rate * diff_B1(Z, output, Wi_2, hidden)"
   ]
  },
  {
   "cell_type": "markdown",
   "id": "edc60bf5",
   "metadata": {},
   "source": [
    "# Generating Prediction at New Datapoint"
   ]
  },
  {
   "cell_type": "code",
   "execution_count": 31,
   "id": "f3325c8c",
   "metadata": {},
   "outputs": [
    {
     "name": "stdout",
     "output_type": "stream",
     "text": [
      " prob of class 0 >>>>>  0.19602774574348364 \n",
      " prob of class 1 >>>>> 0.8039722542565164\n"
     ]
    }
   ],
   "source": [
    "# predicting probability of class using two values (X1, X2)\n",
    "X_test =np.array([7,5])\n",
    "\n",
    "hidden_output = 1 / (1 + np.exp(-X_test.dot(Wi_1.T) - Bi_1))\n",
    "Outer_layer_output = hidden_output.dot(Wi_2) + Bi_2\n",
    "expA = np.exp(Outer_layer_output)\n",
    "Y = expA / expA.sum()\n",
    "print(\" prob of class 0 >>>>>  {} \\n prob of class 1 >>>>> {}\".format(Y[0],Y[1]))"
   ]
  }
 ],
 "metadata": {
  "kernelspec": {
   "display_name": "Python 3 (ipykernel)",
   "language": "python",
   "name": "python3"
  },
  "language_info": {
   "codemirror_mode": {
    "name": "ipython",
    "version": 3
   },
   "file_extension": ".py",
   "mimetype": "text/x-python",
   "name": "python",
   "nbconvert_exporter": "python",
   "pygments_lexer": "ipython3",
   "version": "3.11.1"
  }
 },
 "nbformat": 4,
 "nbformat_minor": 5
}
