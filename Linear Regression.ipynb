{
 "cells": [
  {
   "cell_type": "code",
   "execution_count": null,
   "id": "41989138",
   "metadata": {},
   "outputs": [],
   "source": [
    "import pandas as pd\n",
    "import numpy as np\n",
    "from sklearn.linear_model import LinearRegression\n",
    "\n",
    "data = {'Assignment': [25], 'Exam': [55], 'Grade': [90]}\n",
    "df = pd.DataFrame(data)\n",
    "X = df[['Assignment', 'Exam']]\n",
    "Y = df[['Grade']]\n",
    "lr = LinearRegression()\n",
    "lr.fit(X, Y)\n",
    "\n",
    "X_new = pd.DataFrame({'Assignment': [10], 'Exam': 70})\n",
    "prediction = lr.predict(X_new)\n",
    "print(X_new, prediction[0][0])"
   ]
  }
 ],
 "metadata": {
  "kernelspec": {
   "display_name": "Python 3 (ipykernel)",
   "language": "python",
   "name": "python3"
  },
  "language_info": {
   "codemirror_mode": {
    "name": "ipython",
    "version": 3
   },
   "file_extension": ".py",
   "mimetype": "text/x-python",
   "name": "python",
   "nbconvert_exporter": "python",
   "pygments_lexer": "ipython3",
   "version": "3.11.1"
  }
 },
 "nbformat": 4,
 "nbformat_minor": 5
}
